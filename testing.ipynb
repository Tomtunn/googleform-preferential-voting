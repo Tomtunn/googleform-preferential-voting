{
 "cells": [
  {
   "cell_type": "code",
   "execution_count": 1,
   "metadata": {},
   "outputs": [],
   "source": [
    "import pandas as pd\n",
    "import gformvoting as gf\n",
    "import numpy as np"
   ]
  },
  {
   "cell_type": "code",
   "execution_count": 2,
   "metadata": {},
   "outputs": [
    {
     "data": {
      "text/html": [
       "<div>\n",
       "<style scoped>\n",
       "    .dataframe tbody tr th:only-of-type {\n",
       "        vertical-align: middle;\n",
       "    }\n",
       "\n",
       "    .dataframe tbody tr th {\n",
       "        vertical-align: top;\n",
       "    }\n",
       "\n",
       "    .dataframe thead th {\n",
       "        text-align: right;\n",
       "    }\n",
       "</style>\n",
       "<table border=\"1\" class=\"dataframe\">\n",
       "  <thead>\n",
       "    <tr style=\"text-align: right;\">\n",
       "      <th></th>\n",
       "      <th>Example Candidate 1</th>\n",
       "      <th>Example Candidate 2</th>\n",
       "      <th>Example Candidate 3</th>\n",
       "      <th>Example Candidate 4</th>\n",
       "      <th>Example Candidate 5</th>\n",
       "    </tr>\n",
       "  </thead>\n",
       "  <tbody>\n",
       "    <tr>\n",
       "      <th>0</th>\n",
       "      <td>4.0</td>\n",
       "      <td>5.0</td>\n",
       "      <td>1.0</td>\n",
       "      <td>3.0</td>\n",
       "      <td>2.0</td>\n",
       "    </tr>\n",
       "    <tr>\n",
       "      <th>1</th>\n",
       "      <td>3.0</td>\n",
       "      <td>4.0</td>\n",
       "      <td>2.0</td>\n",
       "      <td>1.0</td>\n",
       "      <td>5.0</td>\n",
       "    </tr>\n",
       "    <tr>\n",
       "      <th>2</th>\n",
       "      <td>3.0</td>\n",
       "      <td>1.0</td>\n",
       "      <td>4.0</td>\n",
       "      <td>5.0</td>\n",
       "      <td>2.0</td>\n",
       "    </tr>\n",
       "    <tr>\n",
       "      <th>3</th>\n",
       "      <td>5.0</td>\n",
       "      <td>4.0</td>\n",
       "      <td>3.0</td>\n",
       "      <td>1.0</td>\n",
       "      <td>2.0</td>\n",
       "    </tr>\n",
       "    <tr>\n",
       "      <th>4</th>\n",
       "      <td>5.0</td>\n",
       "      <td>3.0</td>\n",
       "      <td>4.0</td>\n",
       "      <td>2.0</td>\n",
       "      <td>1.0</td>\n",
       "    </tr>\n",
       "  </tbody>\n",
       "</table>\n",
       "</div>"
      ],
      "text/plain": [
       "   Example Candidate 1  Example Candidate 2  Example Candidate 3  \\\n",
       "0                  4.0                  5.0                  1.0   \n",
       "1                  3.0                  4.0                  2.0   \n",
       "2                  3.0                  1.0                  4.0   \n",
       "3                  5.0                  4.0                  3.0   \n",
       "4                  5.0                  3.0                  4.0   \n",
       "\n",
       "   Example Candidate 4  Example Candidate 5  \n",
       "0                  3.0                  2.0  \n",
       "1                  1.0                  5.0  \n",
       "2                  5.0                  2.0  \n",
       "3                  1.0                  2.0  \n",
       "4                  2.0                  1.0  "
      ]
     },
     "execution_count": 2,
     "metadata": {},
     "output_type": "execute_result"
    }
   ],
   "source": [
    "file_path = \"test_election.csv\"\n",
    "master_voting_table, roles, names = gf.load_voting(file_path)\n",
    "election_table = gf.retrieve_role_voting_table(master_voting_table, \"President\")\n",
    "election_table.head()"
   ]
  },
  {
   "cell_type": "code",
   "execution_count": 3,
   "metadata": {},
   "outputs": [
    {
     "name": "stdout",
     "output_type": "stream",
     "text": [
      "Running election with candidates ['Example Candidate 1', 'Example Candidate 2', 'Example Candidate 3', 'Example Candidate 4', 'Example Candidate 5']\n",
      "Round 1\n",
      "             Candidate  Total\n",
      "0  Example Candidate 1      4\n",
      "1  Example Candidate 2      7\n",
      "2  Example Candidate 3      5\n",
      "3  Example Candidate 4      6\n",
      "4  Example Candidate 5      7\n",
      "Example Candidate 1 eliminated.\n",
      "Round 2\n",
      "             Candidate  Total\n",
      "0  Example Candidate 2      8\n",
      "1  Example Candidate 3      5\n",
      "2  Example Candidate 4      8\n",
      "3  Example Candidate 5      7\n",
      "Example Candidate 3 eliminated.\n",
      "Round 3\n",
      "             Candidate  Total\n",
      "0  Example Candidate 2     10\n",
      "1  Example Candidate 4     10\n",
      "2  Example Candidate 5      8\n",
      "Example Candidate 5 eliminated.\n",
      "Round 4\n",
      "             Candidate  Total\n",
      "0  Example Candidate 2     13\n",
      "1  Example Candidate 4     15\n",
      "Example Candidate 2 eliminated.\n",
      "Round 5\n",
      "             Candidate  Total\n",
      "0  Example Candidate 4     28\n",
      "Winners: Example Candidate 4\n"
     ]
    },
    {
     "data": {
      "image/png": "[encoded data removed]",
      "text/plain": [
       "<Figure size 640x480 with 1 Axes>"
      ]
     },
     "metadata": {},
     "output_type": "display_data"
    }
   ],
   "source": [
    "manager = gf.ElectionManager(election_table, n_winners=1, doplot=True)\n",
    "manager.run()"
   ]
  },
  {
   "cell_type": "markdown",
   "metadata": {},
   "source": [
    "food"
   ]
  },
  {
   "cell_type": "code",
   "execution_count": 4,
   "metadata": {},
   "outputs": [
    {
     "data": {
      "text/html": [
       "<div>\n",
       "<style scoped>\n",
       "    .dataframe tbody tr th:only-of-type {\n",
       "        vertical-align: middle;\n",
       "    }\n",
       "\n",
       "    .dataframe tbody tr th {\n",
       "        vertical-align: top;\n",
       "    }\n",
       "\n",
       "    .dataframe thead th {\n",
       "        text-align: right;\n",
       "    }\n",
       "</style>\n",
       "<table border=\"1\" class=\"dataframe\">\n",
       "  <thead>\n",
       "    <tr style=\"text-align: right;\">\n",
       "      <th></th>\n",
       "      <th>Timestamp</th>\n",
       "      <th>[โกวเล็ก]</th>\n",
       "      <th>[อาหารอีสาน]</th>\n",
       "      <th>[McDonald]</th>\n",
       "      <th>[Pizza]</th>\n",
       "      <th>[Music Squad]</th>\n",
       "      <th>ยืนยันการลงคะแนน</th>\n",
       "      <th>ท่านได้ตรวจสอบแล้วว่าได้ทำการลงคะแนนเสียงเป็นที่เรียบร้อย และยืนยันว่าจะส่งใบลงคะแนน ( หากใช่ให้พิมพ์ “Confirm” )</th>\n",
       "    </tr>\n",
       "  </thead>\n",
       "  <tbody>\n",
       "    <tr>\n",
       "      <th>0</th>\n",
       "      <td>2/3/2024 4:20:59</td>\n",
       "      <td>ให้เป็นอันดับที่ 2</td>\n",
       "      <td>ให้เป็นอันดับที่ 1</td>\n",
       "      <td>ให้เป็นอันดับที่ 4</td>\n",
       "      <td>ให้เป็นอันดับที่ 3</td>\n",
       "      <td>ให้เป็นอันดับที่ 5</td>\n",
       "      <td>ยืนยัน</td>\n",
       "      <td>Confirm</td>\n",
       "    </tr>\n",
       "    <tr>\n",
       "      <th>1</th>\n",
       "      <td>2/3/2024 12:22:03</td>\n",
       "      <td>ให้เป็นอันดับที่ 4</td>\n",
       "      <td>ให้เป็นอันดับที่ 5</td>\n",
       "      <td>ให้เป็นอันดับที่ 1</td>\n",
       "      <td>ให้เป็นอันดับที่ 2</td>\n",
       "      <td>ให้เป็นอันดับที่ 3</td>\n",
       "      <td>ยืนยัน</td>\n",
       "      <td>Confirm</td>\n",
       "    </tr>\n",
       "    <tr>\n",
       "      <th>2</th>\n",
       "      <td>2/3/2024 12:27:13</td>\n",
       "      <td>ให้เป็นอันดับที่ 1</td>\n",
       "      <td>ให้เป็นอันดับที่ 5</td>\n",
       "      <td>ให้เป็นอันดับที่ 3</td>\n",
       "      <td>ให้เป็นอันดับที่ 2</td>\n",
       "      <td>ให้เป็นอันดับที่ 4</td>\n",
       "      <td>ยืนยัน</td>\n",
       "      <td>Confirm</td>\n",
       "    </tr>\n",
       "    <tr>\n",
       "      <th>3</th>\n",
       "      <td>2/3/2024 12:29:02</td>\n",
       "      <td>ให้เป็นอันดับที่ 1</td>\n",
       "      <td>ให้เป็นอันดับที่ 2</td>\n",
       "      <td>ให้เป็นอันดับที่ 5</td>\n",
       "      <td>ให้เป็นอันดับที่ 3</td>\n",
       "      <td>ให้เป็นอันดับที่ 4</td>\n",
       "      <td>ยืนยัน</td>\n",
       "      <td>Confirm</td>\n",
       "    </tr>\n",
       "    <tr>\n",
       "      <th>4</th>\n",
       "      <td>2/3/2024 12:34:25</td>\n",
       "      <td>ให้เป็นอันดับที่ 1</td>\n",
       "      <td>ให้เป็นอันดับที่ 2</td>\n",
       "      <td>ให้เป็นอันดับที่ 3</td>\n",
       "      <td>ให้เป็นอันดับที่ 4</td>\n",
       "      <td>ให้เป็นอันดับที่ 5</td>\n",
       "      <td>ยืนยัน</td>\n",
       "      <td>Confirmed</td>\n",
       "    </tr>\n",
       "  </tbody>\n",
       "</table>\n",
       "</div>"
      ],
      "text/plain": [
       "           Timestamp           [โกวเล็ก]        [อาหารอีสาน]  \\\n",
       "0   2/3/2024 4:20:59  ให้เป็นอันดับที่ 2  ให้เป็นอันดับที่ 1   \n",
       "1  2/3/2024 12:22:03  ให้เป็นอันดับที่ 4  ให้เป็นอันดับที่ 5   \n",
       "2  2/3/2024 12:27:13  ให้เป็นอันดับที่ 1  ให้เป็นอันดับที่ 5   \n",
       "3  2/3/2024 12:29:02  ให้เป็นอันดับที่ 1  ให้เป็นอันดับที่ 2   \n",
       "4  2/3/2024 12:34:25  ให้เป็นอันดับที่ 1  ให้เป็นอันดับที่ 2   \n",
       "\n",
       "           [McDonald]             [Pizza]       [Music Squad]  \\\n",
       "0  ให้เป็นอันดับที่ 4  ให้เป็นอันดับที่ 3  ให้เป็นอันดับที่ 5   \n",
       "1  ให้เป็นอันดับที่ 1  ให้เป็นอันดับที่ 2  ให้เป็นอันดับที่ 3   \n",
       "2  ให้เป็นอันดับที่ 3  ให้เป็นอันดับที่ 2  ให้เป็นอันดับที่ 4   \n",
       "3  ให้เป็นอันดับที่ 5  ให้เป็นอันดับที่ 3  ให้เป็นอันดับที่ 4   \n",
       "4  ให้เป็นอันดับที่ 3  ให้เป็นอันดับที่ 4  ให้เป็นอันดับที่ 5   \n",
       "\n",
       "  ยืนยันการลงคะแนน  \\\n",
       "0           ยืนยัน   \n",
       "1           ยืนยัน   \n",
       "2           ยืนยัน   \n",
       "3           ยืนยัน   \n",
       "4           ยืนยัน   \n",
       "\n",
       "  ท่านได้ตรวจสอบแล้วว่าได้ทำการลงคะแนนเสียงเป็นที่เรียบร้อย และยืนยันว่าจะส่งใบลงคะแนน ( หากใช่ให้พิมพ์ “Confirm” )  \n",
       "0                                            Confirm                                                                 \n",
       "1                                            Confirm                                                                 \n",
       "2                                           Confirm                                                                  \n",
       "3                                           Confirm                                                                  \n",
       "4                                          Confirmed                                                                 "
      ]
     },
     "execution_count": 4,
     "metadata": {},
     "output_type": "execute_result"
    }
   ],
   "source": [
    "file_path = \"food.csv\"\n",
    "df = pd.read_csv(file_path)\n",
    "df.head()"
   ]
  },
  {
   "cell_type": "code",
   "execution_count": 5,
   "metadata": {},
   "outputs": [],
   "source": [
    "file_path = \"food.csv\"\n",
    "df = pd.read_csv(file_path)\n",
    "thai_columns = [' [โกวเล็ก]', ' [อาหารอีสาน]', ' [McDonald]', ' [Pizza]', ' [Music Squad]']\n",
    "eng_columns = ['go_small', 'esan_food', 'McDonald', 'Pizza', 'Music_Squad']\n",
    "df = df[thai_columns] # select columns\n",
    "df.columns = eng_columns # rename column\n",
    "# rename column\n",
    "df = df[eng_columns].apply(lambda x: x.str[-1]).astype(float)\n",
    "food_selection = df"
   ]
  },
  {
   "cell_type": "code",
   "execution_count": 6,
   "metadata": {},
   "outputs": [
    {
     "name": "stdout",
     "output_type": "stream",
     "text": [
      "Running election with candidates ['go_small', 'esan_food', 'McDonald', 'Pizza', 'Music_Squad']\n",
      "Round 1\n",
      "     Candidate  Total\n",
      "0     go_small      4\n",
      "1    esan_food      5\n",
      "2     McDonald      2\n",
      "3        Pizza      2\n",
      "4  Music_Squad      1\n",
      "Music_Squad eliminated.\n",
      "Round 2\n",
      "   Candidate  Total\n",
      "0   go_small      4\n",
      "1  esan_food      5\n",
      "2   McDonald      3\n",
      "3      Pizza      2\n",
      "Pizza eliminated.\n",
      "Round 3\n",
      "   Candidate  Total\n",
      "0   go_small      4\n",
      "1  esan_food      6\n",
      "2   McDonald      4\n",
      "Tiebreak initiated!\n",
      "\tLookback tiebreak finds difference at round 2\n",
      "McDonald eliminated.\n",
      "Round 4\n",
      "   Candidate  Total\n",
      "0   go_small      5\n",
      "1  esan_food      9\n",
      "Winners: esan_food\n"
     ]
    },
    {
     "data": {
      "image/png": "[encoded data removed]",
      "text/plain": [
       "<Figure size 640x480 with 1 Axes>"
      ]
     },
     "metadata": {},
     "output_type": "display_data"
    }
   ],
   "source": [
    "manager = gf.ElectionManager(food_selection, n_winners=1, doplot=True)\n",
    "manager.run()"
   ]
  },
  {
   "cell_type": "markdown",
   "metadata": {},
   "source": [
    "food 2"
   ]
  },
  {
   "cell_type": "code",
   "execution_count": 7,
   "metadata": {},
   "outputs": [],
   "source": [
    "path = \"food_2.csv\"\n",
    "food_2 = pd.read_csv(path)"
   ]
  },
  {
   "cell_type": "code",
   "execution_count": 8,
   "metadata": {},
   "outputs": [],
   "source": [
    "food_2_df = food_2.iloc[:, 5:10]\n",
    "# thai_columns = [' [โกวเล็ก]', ' [อาหารอีสาน]', ' [McDonald]', ' [Pizza]', ' [Music Squad]']\n",
    "# eng_columns = ['go_small', 'esan_food', 'McDonald', 'Pizza', 'Music_Squad']\n",
    "# df = df[thai_columns] # select columns\n",
    "# df.columns = eng_columns # rename column\n",
    "# rename column\n",
    "food_2_df = food_2_df.apply(lambda x: x.str[-1]).astype(float)\n",
    "food_2_df.columns = ['esan', 'italian', 'china', 'indian', 'france']\n"
   ]
  },
  {
   "cell_type": "code",
   "execution_count": 9,
   "metadata": {},
   "outputs": [
    {
     "name": "stdout",
     "output_type": "stream",
     "text": [
      "Running election with candidates ['esan', 'italian', 'china', 'indian', 'france']\n",
      "Round 1\n",
      "  Candidate  Total\n",
      "0      esan     10\n",
      "1   italian      2\n",
      "2     china      1\n",
      "3    indian      2\n",
      "4    france      4\n",
      "china eliminated.\n",
      "Round 2\n",
      "  Candidate  Total\n",
      "0      esan     11\n",
      "1   italian      2\n",
      "2    indian      2\n",
      "3    france      4\n",
      "Winners: esan\n"
     ]
    },
    {
     "data": {
      "image/png": "[encoded data removed]",
      "text/plain": [
       "<Figure size 640x480 with 1 Axes>"
      ]
     },
     "metadata": {},
     "output_type": "display_data"
    }
   ],
   "source": [
    "manager = gf.ElectionManager(food_2_df, n_winners=1, doplot=True)\n",
    "manager.run()"
   ]
  }
 ],
 "metadata": {
  "kernelspec": {
   "display_name": "monai",
   "language": "python",
   "name": "python3"
  },
  "language_info": {
   "codemirror_mode": {
    "name": "ipython",
    "version": 3
   },
   "file_extension": ".py",
   "mimetype": "text/x-python",
   "name": "python",
   "nbconvert_exporter": "python",
   "pygments_lexer": "ipython3",
   "version": "3.11.4"
  }
 },
 "nbformat": 4,
 "nbformat_minor": 2
}
